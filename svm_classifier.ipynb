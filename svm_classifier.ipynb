{
  "cells": [
    {
      "cell_type": "code",
      "execution_count": null,
      "metadata": {
        "colab": {
          "base_uri": "https://localhost:8080/"
        },
        "id": "zaDBzjTKQKFN",
        "outputId": "55cb3041-8c93-46b7-9534-96cff07ade57"
      },
      "outputs": [
        {
          "output_type": "stream",
          "name": "stdout",
          "text": [
            "Mounted at /content/drive\n"
          ]
        }
      ],
      "source": [
        "from google.colab import drive\n",
        "drive.mount('/content/drive')"
      ],
      "id": "zaDBzjTKQKFN"
    },
    {
      "cell_type": "markdown",
      "metadata": {
        "id": "132db684"
      },
      "source": [
        "# PRNU Extraction"
      ],
      "id": "132db684"
    },
    {
      "cell_type": "code",
      "execution_count": null,
      "metadata": {
        "colab": {
          "base_uri": "https://localhost:8080/",
          "height": 1000
        },
        "id": "829617ed",
        "outputId": "29adbc75-2111-498b-dfcd-98b73c30e006"
      },
      "outputs": [
        {
          "output_type": "execute_result",
          "data": {
            "text/plain": [
              "'\\nThe MIT License (MIT)\\n\\nCopyright (c) 2018 \\n\\nPermission is hereby granted, free of charge, to any person obtaining a copy\\nof this software and associated documentation files (the \"Software\"), to deal\\nin the Software without restriction, including without limitation the rights\\nto use, copy, modify, merge, publish, distribute, sublicense, and/or sell\\ncopies of the Software, and to permit persons to whom the Software is\\nfurnished to do so, subject to the following conditions:\\n\\nThe above copyright notice and this permission notice shall be included in all\\ncopies or substantial portions of the Software.\\n\\nTHE SOFTWARE IS PROVIDED \"AS IS\", WITHOUT WARRANTY OF ANY KIND, EXPRESS OR\\nIMPLIED, INCLUDING BUT NOT LIMITED TO THE WARRANTIES OF MERCHANTABILITY,\\nFITNESS FOR A PARTICULAR PURPOSE AND NONINFRINGEMENT. IN NO EVENT SHALL THE\\nAUTHORS OR COPYRIGHT HOLDERS BE LIABLE FOR ANY CLAIM, DAMAGES OR OTHER\\nLIABILITY, WHETHER IN AN ACTION OF CONTRACT, TORT OR OTHERWISE, ARISING FROM,\\nOUT OF OR IN CONNECTION WITH THE SOFTWARE OR THE USE OR OTHER DEALINGS IN THE\\nSOFTWARE.\\n'"
            ],
            "application/vnd.google.colaboratory.intrinsic+json": {
              "type": "string"
            }
          },
          "metadata": {},
          "execution_count": 2
        }
      ],
      "source": [
        "\"\"\"\n",
        "The MIT License (MIT)\n",
        "\n",
        "Copyright (c) 2018 \n",
        "\n",
        "Permission is hereby granted, free of charge, to any person obtaining a copy\n",
        "of this software and associated documentation files (the \"Software\"), to deal\n",
        "in the Software without restriction, including without limitation the rights\n",
        "to use, copy, modify, merge, publish, distribute, sublicense, and/or sell\n",
        "copies of the Software, and to permit persons to whom the Software is\n",
        "furnished to do so, subject to the following conditions:\n",
        "\n",
        "The above copyright notice and this permission notice shall be included in all\n",
        "copies or substantial portions of the Software.\n",
        "\n",
        "THE SOFTWARE IS PROVIDED \"AS IS\", WITHOUT WARRANTY OF ANY KIND, EXPRESS OR\n",
        "IMPLIED, INCLUDING BUT NOT LIMITED TO THE WARRANTIES OF MERCHANTABILITY,\n",
        "FITNESS FOR A PARTICULAR PURPOSE AND NONINFRINGEMENT. IN NO EVENT SHALL THE\n",
        "AUTHORS OR COPYRIGHT HOLDERS BE LIABLE FOR ANY CLAIM, DAMAGES OR OTHER\n",
        "LIABILITY, WHETHER IN AN ACTION OF CONTRACT, TORT OR OTHERWISE, ARISING FROM,\n",
        "OUT OF OR IN CONNECTION WITH THE SOFTWARE OR THE USE OR OTHER DEALINGS IN THE\n",
        "SOFTWARE.\n",
        "\"\"\""
      ],
      "id": "829617ed"
    },
    {
      "cell_type": "code",
      "execution_count": null,
      "metadata": {
        "colab": {
          "base_uri": "https://localhost:8080/",
          "height": 1000
        },
        "id": "3f5b35fa",
        "outputId": "39e12f9a-e7dc-47de-8344-ad240606b5fe"
      },
      "outputs": [
        {
          "output_type": "execute_result",
          "data": {
            "text/plain": [
              "'\\n@author: Luca Bondi (luca.bondi@polimi.it)\\n@author: Paolo Bestagini (paolo.bestagini@polimi.it)\\n@author: Nicolò Bonettini (nicolo.bonettini@polimi.it)\\nPolitecnico di Milano 2018\\n'"
            ],
            "application/vnd.google.colaboratory.intrinsic+json": {
              "type": "string"
            }
          },
          "metadata": {},
          "execution_count": 3
        }
      ],
      "source": [
        "# -*- coding: UTF-8 -*-\n",
        "\"\"\"\n",
        "@author: Luca Bondi (luca.bondi@polimi.it)\n",
        "@author: Paolo Bestagini (paolo.bestagini@polimi.it)\n",
        "@author: Nicolò Bonettini (nicolo.bonettini@polimi.it)\n",
        "Politecnico di Milano 2018\n",
        "\"\"\""
      ],
      "id": "3f5b35fa"
    },
    {
      "cell_type": "code",
      "execution_count": null,
      "metadata": {
        "id": "cd0cc695"
      },
      "outputs": [],
      "source": [
        "from multiprocessing import Pool, cpu_count"
      ],
      "id": "cd0cc695"
    },
    {
      "cell_type": "code",
      "execution_count": null,
      "metadata": {
        "id": "80bf77c9"
      },
      "outputs": [],
      "source": [
        "import numpy as np\n",
        "import pywt\n",
        "from numpy.fft import fft2, ifft2\n",
        "from scipy.ndimage import filters\n",
        "from sklearn.metrics import roc_curve, auc\n",
        "from tqdm import tqdm"
      ],
      "id": "80bf77c9"
    },
    {
      "cell_type": "code",
      "execution_count": null,
      "metadata": {
        "id": "aa23dc97"
      },
      "outputs": [],
      "source": [
        "class ArgumentError(Exception):\n",
        "    pass"
      ],
      "id": "aa23dc97"
    },
    {
      "cell_type": "code",
      "execution_count": null,
      "metadata": {
        "colab": {
          "base_uri": "https://localhost:8080/",
          "height": 472
        },
        "id": "e4dcccf9",
        "outputId": "db775273-e2f7-4244-e5b9-6d54ef73246c"
      },
      "outputs": [
        {
          "output_type": "execute_result",
          "data": {
            "text/plain": [
              "'\\nExtraction functions\\n'"
            ],
            "application/vnd.google.colaboratory.intrinsic+json": {
              "type": "string"
            }
          },
          "metadata": {},
          "execution_count": 7
        }
      ],
      "source": [
        "\"\"\"\n",
        "Extraction functions\n",
        "\"\"\""
      ],
      "id": "e4dcccf9"
    },
    {
      "cell_type": "code",
      "execution_count": null,
      "metadata": {
        "id": "55961a15"
      },
      "outputs": [],
      "source": [
        "def extract_single(im: np.ndarray,\n",
        "                   levels: int = 4,\n",
        "                   sigma: float = 5,\n",
        "                   wdft_sigma: float = 0) -> np.ndarray:\n",
        "    \"\"\"\n",
        "    Extract noise residual from a single image\n",
        "    :param im: grayscale or color image, np.uint8\n",
        "    :param levels: number of wavelet decomposition levels\n",
        "    :param sigma: estimated noise power\n",
        "    :param wdft_sigma: estimated DFT noise power\n",
        "    :return: noise residual\n",
        "    \"\"\"\n",
        "\n",
        "    W = noise_extract(im, levels, sigma)\n",
        "    W = rgb2gray(W)\n",
        "    W = zero_mean_total(W)\n",
        "    W_std = W.std(ddof=1) if wdft_sigma == 0 else wdft_sigma\n",
        "    W = wiener_dft(W, W_std).astype(np.float32)\n",
        "\n",
        "    return W"
      ],
      "id": "55961a15"
    },
    {
      "cell_type": "code",
      "execution_count": null,
      "metadata": {
        "id": "7166146e"
      },
      "outputs": [],
      "source": [
        "def noise_extract(im: np.ndarray, levels: int = 4, sigma: float = 5) -> np.ndarray:\n",
        "    \"\"\"\n",
        "    NoiseExtract as from Binghamton toolbox.\n",
        "\n",
        "    :param im: grayscale or color image, np.uint8\n",
        "    :param levels: number of wavelet decomposition levels\n",
        "    :param sigma: estimated noise power\n",
        "    :return: noise residual\n",
        "    \"\"\"\n",
        "\n",
        "    assert (im.dtype == np.uint8)\n",
        "    assert (im.ndim in [2, 3])\n",
        "\n",
        "    im = im.astype(np.float32)\n",
        "\n",
        "    noise_var = sigma ** 2\n",
        "\n",
        "    if im.ndim == 2:\n",
        "        im.shape += (1,)\n",
        "\n",
        "    W = np.zeros(im.shape, np.float32)\n",
        "\n",
        "    for ch in range(im.shape[2]):\n",
        "\n",
        "        wlet = None\n",
        "        while wlet is None and levels > 0:\n",
        "            try:\n",
        "                wlet = pywt.wavedec2(im[:, :, ch], 'db4', level=levels)\n",
        "            except ValueError:\n",
        "                levels -= 1\n",
        "                wlet = None\n",
        "        if wlet is None:\n",
        "            raise ValueError('Impossible to compute Wavelet filtering for input size: {}'.format(im.shape))\n",
        "\n",
        "        wlet_details = wlet[1:]\n",
        "\n",
        "        wlet_details_filter = [None] * len(wlet_details)\n",
        "        # Cycle over Wavelet levels 1:levels-1\n",
        "        for wlet_level_idx, wlet_level in enumerate(wlet_details):\n",
        "            # Cycle over H,V,D components\n",
        "            level_coeff_filt = [None] * 3\n",
        "            for wlet_coeff_idx, wlet_coeff in enumerate(wlet_level):\n",
        "                level_coeff_filt[wlet_coeff_idx] = wiener_adaptive(wlet_coeff, noise_var)\n",
        "            wlet_details_filter[wlet_level_idx] = tuple(level_coeff_filt)\n",
        "\n",
        "        # Set filtered detail coefficients for Levels > 0 ---\n",
        "        wlet[1:] = wlet_details_filter\n",
        "\n",
        "        # Set to 0 all Level 0 approximation coefficients ---\n",
        "        wlet[0][...] = 0\n",
        "\n",
        "        # Invert wavelet transform ---\n",
        "        wrec = pywt.waverec2(wlet, 'db4')\n",
        "        try:\n",
        "            W[:, :, ch] = wrec\n",
        "        except ValueError:\n",
        "            W = np.zeros(wrec.shape[:2] + (im.shape[2],), np.float32)\n",
        "            W[:, :, ch] = wrec\n",
        "\n",
        "    if W.shape[2] == 1:\n",
        "        W.shape = W.shape[:2]\n",
        "\n",
        "    W = W[:im.shape[0], :im.shape[1]]\n",
        "\n",
        "    return W"
      ],
      "id": "7166146e"
    },
    {
      "cell_type": "code",
      "execution_count": null,
      "metadata": {
        "id": "ab4506dd"
      },
      "outputs": [],
      "source": [
        "def noise_extract_compact(args):\n",
        "    \"\"\"\n",
        "    Extract residual, multiplied by the image. Useful to save memory in multiprocessing operations\n",
        "    :param args: (im, levels, sigma), see noise_extract for usage\n",
        "    :return: residual, multiplied by the image\n",
        "    \"\"\"\n",
        "    w = noise_extract(*args)\n",
        "    im = args[0]\n",
        "    return (w * im / 255.).astype(np.float32)"
      ],
      "id": "ab4506dd"
    },
    {
      "cell_type": "code",
      "execution_count": null,
      "metadata": {
        "id": "596c2ace"
      },
      "outputs": [],
      "source": [
        "def extract_multiple_aligned(imgs: list, levels: int = 4, sigma: float = 5, processes: int = None,\n",
        "                             batch_size=cpu_count(), tqdm_str: str = '') -> np.ndarray:\n",
        "    \"\"\"\n",
        "    Extract PRNU from a list of images. Images are supposed to be the same size and properly oriented\n",
        "    :param tqdm_str: tqdm description (see tqdm documentation)\n",
        "    :param batch_size: number of parallel processed images\n",
        "    :param processes: number of parallel processes\n",
        "    :param imgs: list of images of size (H,W,Ch) and type np.uint8\n",
        "    :param levels: number of wavelet decomposition levels\n",
        "    :param sigma: estimated noise power\n",
        "    :return: PRNU\n",
        "    \"\"\"\n",
        "    assert (isinstance(imgs[0], np.ndarray))\n",
        "    assert (imgs[0].ndim == 3)\n",
        "    assert (imgs[0].dtype == np.uint8)\n",
        "\n",
        "    h, w, ch = imgs[0].shape\n",
        "\n",
        "    RPsum = np.zeros((h, w, ch), np.float32)\n",
        "    NN = np.zeros((h, w, ch), np.float32)\n",
        "\n",
        "    if processes is None or processes > 1:\n",
        "        args_list = []\n",
        "        for im in imgs:\n",
        "            args_list += [(im, levels, sigma)]\n",
        "        pool = Pool(processes=processes)\n",
        "\n",
        "        for batch_idx0 in tqdm(np.arange(start=0, step=batch_size, stop=len(imgs)), disable=tqdm_str == '',\n",
        "                               desc=(tqdm_str + ' (1/2)'), dynamic_ncols=True):\n",
        "            nni = pool.map(inten_sat_compact, args_list[batch_idx0:batch_idx0 + batch_size])\n",
        "            for ni in nni:\n",
        "                NN += ni\n",
        "            del nni\n",
        "\n",
        "        for batch_idx0 in tqdm(np.arange(start=0, step=batch_size, stop=len(imgs)), disable=tqdm_str == '',\n",
        "                               desc=(tqdm_str + ' (2/2)'), dynamic_ncols=True):\n",
        "            wi_list = pool.map(noise_extract_compact, args_list[batch_idx0:batch_idx0 + batch_size])\n",
        "            for wi in wi_list:\n",
        "                RPsum += wi\n",
        "            del wi_list\n",
        "\n",
        "        pool.close()\n",
        "\n",
        "    else:  # Single process\n",
        "        for im in tqdm(imgs, disable=tqdm_str is None, desc=tqdm_str, dynamic_ncols=True):\n",
        "            RPsum += noise_extract_compact((im, levels, sigma))\n",
        "            NN += (inten_scale(im) * saturation(im)) ** 2\n",
        "\n",
        "    K = RPsum / (NN + 1)\n",
        "    K = rgb2gray(K)\n",
        "    K = zero_mean_total(K)\n",
        "    K = wiener_dft(K, K.std(ddof=1)).astype(np.float32)\n",
        "\n",
        "    return K"
      ],
      "id": "596c2ace"
    },
    {
      "cell_type": "code",
      "execution_count": null,
      "metadata": {
        "id": "21117173"
      },
      "outputs": [],
      "source": [
        "def cut_ctr(array: np.ndarray, sizes: tuple) -> np.ndarray:\n",
        "    \"\"\"\n",
        "    Cut a multi-dimensional array at its center, according to sizes\n",
        "    :param array: multidimensional array\n",
        "    :param sizes: tuple of the same length as array.ndim\n",
        "    :return: multidimensional array, center cut\n",
        "    \"\"\"\n",
        "    array = array.copy()\n",
        "    if not (array.ndim == len(sizes)):\n",
        "        raise ArgumentError('array.ndim must be equal to len(sizes)')\n",
        "    for axis in range(array.ndim):\n",
        "        axis_target_size = sizes[axis]\n",
        "        axis_original_size = array.shape[axis]\n",
        "        if axis_target_size > axis_original_size:\n",
        "            raise ValueError(\n",
        "                'Can\\'t have target size {} for axis {} with original size {}'.format(axis_target_size, axis,\n",
        "                                                                                      axis_original_size))\n",
        "        elif axis_target_size < axis_original_size:\n",
        "            axis_start_idx = (axis_original_size - axis_target_size) // 2\n",
        "            axis_end_idx = axis_start_idx + axis_target_size\n",
        "            array = np.take(array, np.arange(axis_start_idx, axis_end_idx), axis)\n",
        "    return array"
      ],
      "id": "21117173"
    },
    {
      "cell_type": "code",
      "execution_count": null,
      "metadata": {
        "id": "4dc045d6"
      },
      "outputs": [],
      "source": [
        "def wiener_dft(im: np.ndarray, sigma: float) -> np.ndarray:\n",
        "    \"\"\"\n",
        "    Adaptive Wiener filter applied to the 2D FFT of the image\n",
        "    :param im: multidimensional array\n",
        "    :param sigma: estimated noise power\n",
        "    :return: filtered version of input im\n",
        "    \"\"\"\n",
        "    noise_var = sigma ** 2\n",
        "    h, w = im.shape\n",
        "\n",
        "    im_noise_fft = fft2(im)\n",
        "    im_noise_fft_mag = np.abs(im_noise_fft / (h * w) ** .5)\n",
        "\n",
        "    im_noise_fft_mag_noise = wiener_adaptive(im_noise_fft_mag, noise_var)\n",
        "\n",
        "    zeros_y, zeros_x = np.nonzero(im_noise_fft_mag == 0)\n",
        "\n",
        "    im_noise_fft_mag[zeros_y, zeros_x] = 1\n",
        "    im_noise_fft_mag_noise[zeros_y, zeros_x] = 0\n",
        "\n",
        "    im_noise_fft_filt = im_noise_fft * im_noise_fft_mag_noise / im_noise_fft_mag\n",
        "    im_noise_filt = np.real(ifft2(im_noise_fft_filt))\n",
        "\n",
        "    return im_noise_filt.astype(np.float32)"
      ],
      "id": "4dc045d6"
    },
    {
      "cell_type": "code",
      "execution_count": null,
      "metadata": {
        "id": "aa635f80"
      },
      "outputs": [],
      "source": [
        "def zero_mean(im: np.ndarray) -> np.ndarray:\n",
        "    \"\"\"\n",
        "    ZeroMean called with the 'both' argument, as from Binghamton toolbox.\n",
        "    :param im: multidimensional array\n",
        "    :return: zero mean version of input im\n",
        "    \"\"\"\n",
        "    # Adapt the shape ---\n",
        "    if im.ndim == 2:\n",
        "        im.shape += (1,)\n",
        "\n",
        "    h, w, ch = im.shape\n",
        "\n",
        "    # Subtract the 2D mean from each color channel ---\n",
        "    ch_mean = im.mean(axis=0).mean(axis=0)\n",
        "    ch_mean.shape = (1, 1, ch)\n",
        "    i_zm = im - ch_mean\n",
        "\n",
        "    # Compute the 1D mean along each row and each column, then subtract ---\n",
        "    row_mean = i_zm.mean(axis=1)\n",
        "    col_mean = i_zm.mean(axis=0)\n",
        "\n",
        "    row_mean.shape = (h, 1, ch)\n",
        "    col_mean.shape = (1, w, ch)\n",
        "\n",
        "    i_zm_r = i_zm - row_mean\n",
        "    i_zm_rc = i_zm_r - col_mean\n",
        "\n",
        "    # Restore the shape ---\n",
        "    if im.shape[2] == 1:\n",
        "        i_zm_rc.shape = im.shape[:2]\n",
        "\n",
        "    return i_zm_rc"
      ],
      "id": "aa635f80"
    },
    {
      "cell_type": "code",
      "execution_count": null,
      "metadata": {
        "id": "c2927f33"
      },
      "outputs": [],
      "source": [
        "def zero_mean_total(im: np.ndarray) -> np.ndarray:\n",
        "    \"\"\"\n",
        "    ZeroMeanTotal as from Binghamton toolbox.\n",
        "    :param im: multidimensional array\n",
        "    :return: zero mean version of input im\n",
        "    \"\"\"\n",
        "    im[0::2, 0::2] = zero_mean(im[0::2, 0::2])\n",
        "    im[1::2, 0::2] = zero_mean(im[1::2, 0::2])\n",
        "    im[0::2, 1::2] = zero_mean(im[0::2, 1::2])\n",
        "    im[1::2, 1::2] = zero_mean(im[1::2, 1::2])\n",
        "    return im"
      ],
      "id": "c2927f33"
    },
    {
      "cell_type": "code",
      "execution_count": null,
      "metadata": {
        "id": "da9dd408"
      },
      "outputs": [],
      "source": [
        "def rgb2gray(im: np.ndarray) -> np.ndarray:\n",
        "    \"\"\"\n",
        "    RGB to gray as from Binghamton toolbox.\n",
        "    :param im: multidimensional array\n",
        "    :return: grayscale version of input im\n",
        "    \"\"\"\n",
        "    rgb2gray_vector = np.asarray([0.29893602, 0.58704307, 0.11402090]).astype(np.float32)\n",
        "    rgb2gray_vector.shape = (3, 1)\n",
        "\n",
        "    if im.ndim == 2:\n",
        "        im_gray = np.copy(im)\n",
        "    elif im.shape[2] == 1:\n",
        "        im_gray = np.copy(im[:, :, 0])\n",
        "    elif im.shape[2] == 3:\n",
        "        w, h = im.shape[:2]\n",
        "        im = np.reshape(im, (w * h, 3))\n",
        "        im_gray = np.dot(im, rgb2gray_vector)\n",
        "        im_gray.shape = (w, h)\n",
        "    else:\n",
        "        raise ValueError('Input image must have 1 or 3 channels')\n",
        "\n",
        "    return im_gray.astype(np.float32)"
      ],
      "id": "da9dd408"
    },
    {
      "cell_type": "code",
      "execution_count": null,
      "metadata": {
        "id": "c53ff2b8"
      },
      "outputs": [],
      "source": [
        "def threshold(wlet_coeff_energy_avg: np.ndarray, noise_var: float) -> np.ndarray:\n",
        "    \"\"\"\n",
        "    Noise variance theshold as from Binghamton toolbox.\n",
        "    :param wlet_coeff_energy_avg:\n",
        "    :param noise_var:\n",
        "    :return: noise variance threshold\n",
        "    \"\"\"\n",
        "    res = wlet_coeff_energy_avg - noise_var\n",
        "    return (res + np.abs(res)) / 2"
      ],
      "id": "c53ff2b8"
    },
    {
      "cell_type": "code",
      "execution_count": null,
      "metadata": {
        "id": "b3745e3c"
      },
      "outputs": [],
      "source": [
        "def wiener_adaptive(x: np.ndarray, noise_var: float, **kwargs) -> np.ndarray:\n",
        "    \"\"\"\n",
        "    WaveNoise as from Binghamton toolbox.\n",
        "    Wiener adaptive flter aimed at extracting the noise component\n",
        "    For each input pixel the average variance over a neighborhoods of different window sizes is first computed.\n",
        "    The smaller average variance is taken into account when filtering according to Wiener.\n",
        "    :param x: 2D matrix\n",
        "    :param noise_var: Power spectral density of the noise we wish to extract (S)\n",
        "    :param window_size_list: list of window sizes\n",
        "    :return: wiener filtered version of input x\n",
        "    \"\"\"\n",
        "    window_size_list = list(kwargs.pop('window_size_list', [3, 5, 7, 9]))\n",
        "\n",
        "    energy = x ** 2\n",
        "\n",
        "    avg_win_energy = np.zeros(x.shape + (len(window_size_list),))\n",
        "    for window_idx, window_size in enumerate(window_size_list):\n",
        "        avg_win_energy[:, :, window_idx] = filters.uniform_filter(energy,\n",
        "                                                                  window_size,\n",
        "                                                                  mode='constant')\n",
        "\n",
        "    coef_var = threshold(avg_win_energy, noise_var)\n",
        "    coef_var_min = np.min(coef_var, axis=2)\n",
        "\n",
        "    x = x * noise_var / (coef_var_min + noise_var)\n",
        "\n",
        "    return x"
      ],
      "id": "b3745e3c"
    },
    {
      "cell_type": "code",
      "execution_count": null,
      "metadata": {
        "id": "f53e6f72"
      },
      "outputs": [],
      "source": [
        "def inten_scale(im: np.ndarray) -> np.ndarray:\n",
        "    \"\"\"\n",
        "    IntenScale as from Binghamton toolbox\n",
        "    :param im: type np.uint8\n",
        "    :return: intensity scaled version of input x\n",
        "    \"\"\"\n",
        "\n",
        "    assert (im.dtype == np.uint8)\n",
        "\n",
        "    T = 252\n",
        "    v = 6\n",
        "    out = np.exp(-1 * (im - T) ** 2 / v)\n",
        "    out[im < T] = im[im < T] / T\n",
        "\n",
        "    return out"
      ],
      "id": "f53e6f72"
    },
    {
      "cell_type": "code",
      "execution_count": null,
      "metadata": {
        "id": "b1874c05"
      },
      "outputs": [],
      "source": [
        "def saturation(im: np.ndarray) -> np.ndarray:\n",
        "    \"\"\"\n",
        "    Saturation as from Binghamton toolbox\n",
        "    :param im: type np.uint8\n",
        "    :return: saturation map from input im\n",
        "    \"\"\"\n",
        "    assert (im.dtype == np.uint8)\n",
        "\n",
        "    if im.ndim == 2:\n",
        "        im.shape += (1,)\n",
        "\n",
        "    h, w, ch = im.shape\n",
        "\n",
        "    if im.max() < 250:\n",
        "        return np.ones((h, w, ch))\n",
        "\n",
        "    im_h = im - np.roll(im, (0, 1), (0, 1))\n",
        "    im_v = im - np.roll(im, (1, 0), (0, 1))\n",
        "    satur_map = \\\n",
        "        np.bitwise_not(\n",
        "            np.bitwise_and(\n",
        "                np.bitwise_and(\n",
        "                    np.bitwise_and(\n",
        "                        im_h != 0, im_v != 0\n",
        "                    ), np.roll(im_h, (0, -1), (0, 1)) != 0\n",
        "                ), np.roll(im_v, (-1, 0), (0, 1)) != 0\n",
        "            )\n",
        "        )\n",
        "\n",
        "    max_ch = im.max(axis=0).max(axis=0)\n",
        "\n",
        "    for ch_idx, max_c in enumerate(max_ch):\n",
        "        if max_c > 250:\n",
        "            satur_map[:, :, ch_idx] = \\\n",
        "                np.bitwise_not(\n",
        "                    np.bitwise_and(\n",
        "                        im[:, :, ch_idx] == max_c, satur_map[:, :, ch_idx]\n",
        "                    )\n",
        "                )\n",
        "\n",
        "    return satur_map"
      ],
      "id": "b1874c05"
    },
    {
      "cell_type": "code",
      "execution_count": null,
      "metadata": {
        "id": "c85fde40"
      },
      "outputs": [],
      "source": [
        "def inten_sat_compact(args):\n",
        "    \"\"\"\n",
        "    Memory saving version of inten_scale followed by saturation. Useful for multiprocessing\n",
        "    :param args:\n",
        "    :return: intensity scale and saturation of input\n",
        "    \"\"\"\n",
        "    im = args[0]\n",
        "    return ((inten_scale(im) * saturation(im)) ** 2).astype(np.float32)"
      ],
      "id": "c85fde40"
    },
    {
      "cell_type": "code",
      "execution_count": null,
      "metadata": {
        "colab": {
          "base_uri": "https://localhost:8080/",
          "height": 594
        },
        "id": "53a60701",
        "outputId": "6279d867-a5f8-43d4-ccd3-de16d33ebdfa"
      },
      "outputs": [
        {
          "output_type": "execute_result",
          "data": {
            "text/plain": [
              "'\\nCross-correlation functions\\n'"
            ],
            "application/vnd.google.colaboratory.intrinsic+json": {
              "type": "string"
            }
          },
          "metadata": {},
          "execution_count": 22
        }
      ],
      "source": [
        "\"\"\"\n",
        "Cross-correlation functions\n",
        "\"\"\""
      ],
      "id": "53a60701"
    },
    {
      "cell_type": "code",
      "execution_count": null,
      "metadata": {
        "id": "36862feb"
      },
      "outputs": [],
      "source": [
        "def crosscorr_2d(k1: np.ndarray, k2: np.ndarray) -> np.ndarray:\n",
        "    \"\"\"\n",
        "    PRNU 2D cross-correlation\n",
        "    :param k1: 2D matrix of size (h1,w1)\n",
        "    :param k2: 2D matrix of size (h2,w2)\n",
        "    :return: 2D matrix of size (max(h1,h2),max(w1,w2))\n",
        "    \"\"\"\n",
        "    assert (k1.ndim == 2)\n",
        "    assert (k2.ndim == 2)\n",
        "\n",
        "    max_height = max(k1.shape[0], k2.shape[0])\n",
        "    max_width = max(k1.shape[1], k2.shape[1])\n",
        "\n",
        "    k1 -= k1.flatten().mean()\n",
        "    k2 -= k2.flatten().mean()\n",
        "\n",
        "    k1 = np.pad(k1, [(0, max_height - k1.shape[0]), (0, max_width - k1.shape[1])], mode='constant', constant_values=0)\n",
        "    k2 = np.pad(k2, [(0, max_height - k2.shape[0]), (0, max_width - k2.shape[1])], mode='constant', constant_values=0)\n",
        "\n",
        "    k1_fft = fft2(k1, )\n",
        "    k2_fft = fft2(np.rot90(k2, 2), )\n",
        "\n",
        "    return np.real(ifft2(k1_fft * k2_fft)).astype(np.float32)"
      ],
      "id": "36862feb"
    },
    {
      "cell_type": "code",
      "execution_count": null,
      "metadata": {
        "id": "0891250c"
      },
      "outputs": [],
      "source": [
        "def aligned_cc(k1: np.ndarray, k2: np.ndarray) -> dict:\n",
        "    \"\"\"\n",
        "    Aligned PRNU cross-correlation\n",
        "    :param k1: (n1,nk) or (n1,nk1,nk2,...)\n",
        "    :param k2: (n2,nk) or (n2,nk1,nk2,...)\n",
        "    :return: {'cc':(n1,n2) cross-correlation matrix,'ncc':(n1,n2) normalized cross-correlation matrix}\n",
        "    \"\"\"\n",
        "\n",
        "    # Type cast\n",
        "    k1 = np.array(k1).astype(np.float32)\n",
        "    k2 = np.array(k2).astype(np.float32)\n",
        "\n",
        "    ndim1 = k1.ndim\n",
        "    ndim2 = k2.ndim\n",
        "    assert (ndim1 == ndim2)\n",
        "\n",
        "    k1 = np.ascontiguousarray(k1).reshape(k1.shape[0], -1)\n",
        "    k2 = np.ascontiguousarray(k2).reshape(k2.shape[0], -1)\n",
        "\n",
        "    assert (k1.shape[1] == k2.shape[1])\n",
        "\n",
        "    k1_norm = np.linalg.norm(k1, ord=2, axis=1, keepdims=True)\n",
        "    k2_norm = np.linalg.norm(k2, ord=2, axis=1, keepdims=True)\n",
        "\n",
        "    k2t = np.ascontiguousarray(k2.transpose())\n",
        "\n",
        "    cc = np.matmul(k1, k2t).astype(np.float32)\n",
        "    ncc = (cc / (k1_norm * k2_norm.transpose())).astype(np.float32)\n",
        "\n",
        "    return {'cc': cc, 'ncc': ncc}"
      ],
      "id": "0891250c"
    },
    {
      "cell_type": "code",
      "execution_count": null,
      "metadata": {
        "id": "c8b2cdb8"
      },
      "outputs": [],
      "source": [
        "def pce(cc: np.ndarray, neigh_radius: int = 2) -> dict:\n",
        "    \"\"\"\n",
        "    PCE position and value\n",
        "    :param cc: as from crosscorr2d\n",
        "    :param neigh_radius: radius around the peak to be ignored while computing floor energy\n",
        "    :return: {'peak':(y,x), 'pce': peak to floor ratio, 'cc': cross-correlation value at peak position\n",
        "    \"\"\"\n",
        "    assert (cc.ndim == 2)\n",
        "    assert (isinstance(neigh_radius, int))\n",
        "\n",
        "    out = dict()\n",
        "\n",
        "    max_idx = np.argmax(cc.flatten())\n",
        "    max_y, max_x = np.unravel_index(max_idx, cc.shape)\n",
        "\n",
        "    peak_height = cc[max_y, max_x]\n",
        "\n",
        "    cc_nopeaks = cc.copy()\n",
        "    cc_nopeaks[max_y - neigh_radius:max_y + neigh_radius, max_x - neigh_radius:max_x + neigh_radius] = 0\n",
        "\n",
        "    pce_energy = np.mean(cc_nopeaks.flatten() ** 2)\n",
        "\n",
        "    out['peak'] = (max_y, max_x)\n",
        "    out['pce'] = (peak_height ** 2) / pce_energy * np.sign(peak_height)\n",
        "    out['cc'] = peak_height\n",
        "\n",
        "    return out"
      ],
      "id": "c8b2cdb8"
    },
    {
      "cell_type": "code",
      "execution_count": null,
      "metadata": {
        "colab": {
          "base_uri": "https://localhost:8080/",
          "height": 490
        },
        "id": "41ca2d19",
        "outputId": "0a1b9696-ab2c-424f-fa19-9a529ea454f3"
      },
      "outputs": [
        {
          "output_type": "execute_result",
          "data": {
            "text/plain": [
              "'\\nStatistical functions\\n'"
            ],
            "application/vnd.google.colaboratory.intrinsic+json": {
              "type": "string"
            }
          },
          "metadata": {},
          "execution_count": 26
        }
      ],
      "source": [
        "\"\"\"\n",
        "Statistical functions\n",
        "\"\"\""
      ],
      "id": "41ca2d19"
    },
    {
      "cell_type": "code",
      "execution_count": null,
      "metadata": {
        "id": "3fa08970"
      },
      "outputs": [],
      "source": [
        "def stats(cc: np.ndarray, gt: np.ndarray, ) -> dict:\n",
        "    \"\"\"\n",
        "    Compute statistics\n",
        "    :param cc: cross-correlation or normalized cross-correlation matrix\n",
        "    :param gt: boolean multidimensional array representing groundtruth\n",
        "    :return: statistics dictionary\n",
        "    \"\"\"\n",
        "    assert (cc.shape == gt.shape)\n",
        "    assert (gt.dtype == np.bool)\n",
        "\n",
        "    assert (cc.shape == gt.shape)\n",
        "    assert (gt.dtype == np.bool)\n",
        "\n",
        "    fpr, tpr, th = roc_curve(gt.flatten(), cc.flatten())\n",
        "    auc_score = auc(fpr, tpr)\n",
        "\n",
        "    # EER\n",
        "    eer_idx = np.argmin((fpr - (1 - tpr)) ** 2, axis=0)\n",
        "    eer = float(fpr[eer_idx])\n",
        "\n",
        "    outdict = {\n",
        "        'tpr': tpr,\n",
        "        'fpr': fpr,\n",
        "        'th': th,\n",
        "        'auc': auc_score,\n",
        "        'eer': eer,\n",
        "    }\n",
        "\n",
        "    return outdict"
      ],
      "id": "3fa08970"
    },
    {
      "cell_type": "code",
      "execution_count": null,
      "metadata": {
        "id": "ba2dfc10"
      },
      "outputs": [],
      "source": [
        "def gt(l1: list or np.ndarray, l2: list or np.ndarray) -> np.ndarray:\n",
        "    \"\"\"\n",
        "    Determine the Ground Truth matrix given the labels\n",
        "    :param l1: fingerprints labels\n",
        "    :param l2: residuals labels\n",
        "    :return: groundtruth matrix\n",
        "    \"\"\"\n",
        "    l1 = np.array(l1)\n",
        "    l2 = np.array(l2)\n",
        "\n",
        "    assert (l1.ndim == 1)\n",
        "    assert (l2.ndim == 1)\n",
        "\n",
        "    gt_arr = np.zeros((len(l1), len(l2)), np.bool)\n",
        "\n",
        "    for l1idx, l1sample in enumerate(l1):\n",
        "        gt_arr[l1idx, l2 == l1sample] = True\n",
        "\n",
        "    return gt_arr"
      ],
      "id": "ba2dfc10"
    },
    {
      "cell_type": "markdown",
      "metadata": {
        "id": "e5bbd2d1"
      },
      "source": [
        "# Image Extraction"
      ],
      "id": "e5bbd2d1"
    },
    {
      "cell_type": "code",
      "execution_count": null,
      "metadata": {
        "id": "d9091b09"
      },
      "outputs": [],
      "source": [
        "import cv2\n",
        "import os\n",
        "from cv2 import imwrite\n",
        "import numpy as np\n",
        "def extract(image_path : str, savepath : str, frame_number = 3) -> None:\n",
        "    \"\"\"\n",
        "    Fits the image to the face.\n",
        "    Params:\n",
        "        image_path - the image path to crop to face\n",
        "        savepath - where to save the frame\n",
        "        frame_number - take every frame_number frame\n",
        "    returns:\n",
        "        cropped image\n",
        "    \"\"\"\n",
        "    list_of_images = convert(image_path, frame_number)\n",
        "    frame = 0\n",
        "    if not os.path.exists(savepath):\n",
        "        os.mkdir(savepath)\n",
        "    video_name = image_path.split('/')[-1]\n",
        "    cv2_dir = os.path.dirname(cv2.__file__)\n",
        "    face_dir = os.path.join(cv2_dir, 'data/haarcascade_frontalface_alt.xml')\n",
        "    haar = cv2.CascadeClassifier()\n",
        "    haar.load(cv2.samples.findFile(face_dir))\n",
        "    if list_of_images is None:\n",
        "        return\n",
        "    for current_image in list_of_images:\n",
        "        img_grey = cv2.cvtColor(current_image, cv2.COLOR_BGR2GRAY)\n",
        "        img_grey = cv2.equalizeHist(img_grey) # in opencv doc don't know if necessary\n",
        "        faces = haar.detectMultiScale(img_grey)\n",
        "        face_number = 0\n",
        "        frame += 1\n",
        "        for face in faces:\n",
        "            x = face[0]\n",
        "            y = face[1]\n",
        "            w = face[2]\n",
        "            h = face[3]\n",
        "            current_face = current_image[y:y + h, x: x + w]\n",
        "            current_face = cv2.resize(current_face, dsize = (128, 128))\n",
        "            path = str(savepath) + '/' + video_name + '_' + str(frame) + '_' + str(face_number) + '.png'\n",
        "            imwrite(path, current_face)\n",
        "            face_number += 1\n",
        "\n",
        "def convert(path: str, frame_number: int) -> list:\n",
        "    \"\"\"\n",
        "    Converts a video to its frames\n",
        "    Params:\n",
        "        path - path to the video\n",
        "        frame_number - take every frame_number frame\n",
        "    returns:\n",
        "        returns list of frames of video\n",
        "    \"\"\"\n",
        "    return_list = []\n",
        "    cap = cv2.VideoCapture(path)\n",
        "    while cap.isOpened():\n",
        "        frame = 1\n",
        "        ret, current_frame = cap.read()\n",
        "        if not ret:\n",
        "            break\n",
        "        if frame_number % frame != 0:\n",
        "            frame += 1\n",
        "        else:\n",
        "            frame += 1\n",
        "            return_list.append(current_frame)\n",
        "    cap.release()\n",
        "    return return_list"
      ],
      "id": "d9091b09"
    },
    {
      "cell_type": "markdown",
      "metadata": {
        "id": "oyYaZGC-Fwf5"
      },
      "source": [
        "# Preprocess the PRNU data for easy access during training"
      ],
      "id": "oyYaZGC-Fwf5"
    },
    {
      "cell_type": "code",
      "execution_count": null,
      "metadata": {
        "id": "y0WS0r5VzgGc"
      },
      "outputs": [],
      "source": [
        "path = 'drive/MyDrive/deepfake/preprocessed'\n",
        "import glob\n",
        "import json\n",
        "\n",
        "for directory in os.listdir(path):\n",
        "    # don't re pre process\n",
        "    if os.path.exists(os.path.join(path, directory, 'prnu.json')):\n",
        "        continue\n",
        "    done = False\n",
        "    i = 0\n",
        "    prnu_face = dict()\n",
        "    while not done:\n",
        "        faces = glob.glob(os.path.join(path, directory, f'*_*_{i}.png'))\n",
        "        # check for empty list - out of faces \n",
        "        if not faces:\n",
        "            done = True\n",
        "            continue\n",
        "\n",
        "        i += 1\n",
        "        imgs = list()\n",
        "        for frame in faces:\n",
        "            img = cv2.imread(frame, cv2.IMREAD_COLOR)\n",
        "            if img is not None:\n",
        "                imgs.append(img)\n",
        "\n",
        "        # get PRNU data for all instances of this face in the video\n",
        "        prnu = extract_multiple_aligned(imgs)\n",
        "        prnu_face[i] = prnu.flatten().tolist()\n",
        "    \n",
        "    with open(os.path.join(path, directory, \"prnu.json\"), 'w') as f:\n",
        "        json.dump(prnu_face, f)"
      ],
      "id": "y0WS0r5VzgGc"
    },
    {
      "cell_type": "markdown",
      "metadata": {
        "id": "2c2c3179"
      },
      "source": [
        "# SVM"
      ],
      "id": "2c2c3179"
    },
    {
      "cell_type": "code",
      "execution_count": null,
      "metadata": {
        "id": "457182ee"
      },
      "outputs": [],
      "source": [
        "from sklearn.svm import SVR"
      ],
      "id": "457182ee"
    },
    {
      "cell_type": "code",
      "execution_count": null,
      "metadata": {
        "id": "6a45856d"
      },
      "outputs": [],
      "source": [
        "def train(base_path: str, dirs: list, labels: dict):\n",
        "    \"\"\"\n",
        "    Train an SVM with the given parameters\n",
        "    Params:\n",
        "        dirs: List of directories corresponding to frames of a video\n",
        "        labels: labels corresponding to the dirs\n",
        "    Returns:\n",
        "        svm: trained svm\n",
        "    \"\"\"\n",
        "    # instantiate svm\n",
        "    svm = SVR(gamma='scale')\n",
        "    prnus = list()\n",
        "    prnu_labels = list()\n",
        "\n",
        "    # go through dir list\n",
        "    for directory in dirs:\n",
        "        with open(os.path.join(base_path, os.path.splitext(directory)[0], 'prnu.json'), 'r') as f:\n",
        "            prnu_dict = json.load(f)  # this assumes that it is preprocessed including with PRNU extraction\n",
        "            f.close()\n",
        "        faces = list()\n",
        "        for face in prnu_dict.values():\n",
        "            faces.append(face)\n",
        "        prnus.append(np.mean(faces, 0))\n",
        "        prnu_labels.append(1 if labels[directory]['label'] == 'REAL' else -1)\n",
        "    svm.fit(prnus, prnu_labels)\n",
        "    return svm"
      ],
      "id": "6a45856d"
    },
    {
      "cell_type": "code",
      "execution_count": null,
      "metadata": {
        "id": "7cf10aee"
      },
      "outputs": [],
      "source": [
        "def classify(in_dir: str, svm) -> int:\n",
        "    \"\"\"\n",
        "    Classify an image using a trained SVM\n",
        "    Params:\n",
        "        dir: Directories corresponding to frames of a video\n",
        "        svm: trained svm\n",
        "    Returns:\n",
        "        label: returns label of the data\n",
        "    \"\"\"        \n",
        "    with open(os.path.join(in_dir, 'prnu.json'), 'r') as f:\n",
        "        prnu_dict = json.load(f)  # this assumes that it is preprocessed including with PRNU extraction\n",
        "        f.close()\n",
        "    faces = list()\n",
        "    for face in prnu_dict.values():\n",
        "        faces.append(face)\n",
        "    prediction = svm.predict(np.mean(faces, 0).reshape(1, -1))\n",
        "    return prediction[0]"
      ],
      "id": "7cf10aee"
    },
    {
      "cell_type": "markdown",
      "metadata": {
        "id": "ODL89L6I-IIn"
      },
      "source": [
        "# Pretrained Model - trained in other notebook following other persons code"
      ],
      "id": "ODL89L6I-IIn"
    },
    {
      "cell_type": "code",
      "execution_count": null,
      "metadata": {
        "colab": {
          "base_uri": "https://localhost:8080/"
        },
        "id": "OkFaegDK-QtN",
        "outputId": "2c96c0d9-ceed-4bbd-d195-0ada36461bc4"
      },
      "outputs": [
        {
          "output_type": "stream",
          "name": "stderr",
          "text": [
            "/usr/local/lib/python3.7/dist-packages/keras/layers/core/lambda_layer.py:305: UserWarning: keras.applications.inception_resnet_v2 is not loaded, but a Lambda layer uses it. It may cause errors.\n",
            "  'function_type')\n"
          ]
        }
      ],
      "source": [
        "path = 'drive/MyDrive/deepfake'\n",
        "import json\n",
        "from keras.models import load_model\n",
        "import os\n",
        "model = load_model(os.path.join(path, 'deepfake-detection-model-retrained.h5'))\n",
        "# load in training and test/validation data.\n",
        "with open(os.path.join(path, 'validation_set_new.json'), 'r') as f:\n",
        "    X_val = json.load(f)\n",
        "\n",
        "with open(os.path.join(path, 'train_set_new.json'), 'r') as f:\n",
        "    X_train = json.load(f)"
      ],
      "id": "OkFaegDK-QtN"
    },
    {
      "cell_type": "markdown",
      "metadata": {
        "id": "M5QSkOUVL6mG"
      },
      "source": [
        "# Combination Model"
      ],
      "id": "M5QSkOUVL6mG"
    },
    {
      "cell_type": "code",
      "execution_count": null,
      "metadata": {
        "id": "XI803nANL-LM"
      },
      "outputs": [],
      "source": [
        "import torch\n",
        "import torch.nn as nn\n",
        "import torch.nn.functional as F\n",
        "import torch.optim as optim\n",
        "from tensorflow.keras.preprocessing.image import ImageDataGenerator, img_to_array, load_img\n",
        "import math\n",
        "import os\n",
        "data = open(os.path.join(path, 'train_sample_videos/metadata.json'))\n",
        "metadata = json.load(data)\n",
        "data.close()\n",
        "\n",
        "class Net(nn.Module):\n",
        "    def __init__(self, nodes = 8):\n",
        "        super().__init__()\n",
        "        self.network = nn.Sequential(\n",
        "            nn.Linear(2, nodes),\n",
        "            nn.ReLU(),\n",
        "            nn.Linear(nodes, nodes),\n",
        "            nn.ReLU(),\n",
        "            nn.Linear(nodes, nodes),\n",
        "            nn.ReLU(),\n",
        "            nn.Linear(nodes, 2),\n",
        "            nn.Softmax(0)\n",
        "        )\n",
        "\n",
        "    def forward(self, x):\n",
        "        y = self.network(x)\n",
        "        return y\n",
        "\n",
        "net = Net(8)\n",
        "device = 'cpu'\n",
        "device = 'cuda' if torch.cuda.is_available() else 'cpu'\n",
        "net.to(device)\n",
        "criterion = nn.BCELoss()\n",
        "optimizer = optim.Adam(net.parameters())\n",
        "loss_list = []\n",
        "running = list()\n",
        "\n",
        "def net_train(net, pretrained, training_data, svm):\n",
        "    running_loss = 0\n",
        "    while training_data:\n",
        "        current_data = training_data.pop(0)\n",
        "        input = [-1, -1]\n",
        "\n",
        "        vid_name = os.path.splitext(current_data)[0] \n",
        "\n",
        "        # grab label of the data to find the directory where it is stored\n",
        "        label =  metadata[current_data]['label']\n",
        "        dir = 'real' if label == 'REAL' else 'fake'\n",
        "        \n",
        "        # classify with svm\n",
        "        input[0] = classify(os.path.join(path, 'preprocessed', vid_name), svm)\n",
        "        \n",
        "        # get output from pretrained model\n",
        "        frames = glob.glob(os.path.join(path, 'dataset', dir, vid_name+'_*'))\n",
        "        input_frames = list()\n",
        "        \n",
        "        for frame in frames: \n",
        "            input_frames.append(img_to_array(load_img(frame)).flatten() / 255.0)\n",
        "\n",
        "        if not input_frames:\n",
        "            continue\n",
        "            \n",
        "        pretrained_out = pretrained(np.array(input_frames).reshape(-1, 128, 128, 3))\n",
        "        input[1] = np.argmax(pretrained_out, 1).mean()\n",
        "\n",
        "        # send to combined\n",
        "        output = net(torch.tensor(input, dtype=torch.float32).to(device))\n",
        "        optimizer.zero_grad()\n",
        "        loss = criterion(output.to(device), \n",
        "            torch.tensor([0, 1] if label == 'REAL' else [1, 0], dtype=torch.float).to(device))\n",
        "        loss.backward()\n",
        "        optimizer.step()\n",
        "        running_loss += loss.item()\n",
        "        running.append(running_loss)\n",
        "        loss_list.append(loss.item())\n",
        "        "
      ],
      "id": "XI803nANL-LM"
    },
    {
      "cell_type": "markdown",
      "metadata": {
        "id": "QQi0VkaN20me"
      },
      "source": [
        "#Training Models"
      ],
      "id": "QQi0VkaN20me"
    },
    {
      "cell_type": "markdown",
      "metadata": {
        "id": "GwfnyJ9SN8t2"
      },
      "source": [
        "- SVM Training"
      ],
      "id": "GwfnyJ9SN8t2"
    },
    {
      "cell_type": "code",
      "execution_count": null,
      "metadata": {
        "id": "RC05L63Q_J-2"
      },
      "outputs": [],
      "source": [
        "import joblib\n",
        "reals = list()\n",
        "fakes = list()\n",
        "for elem in X_train:\n",
        "    if metadata[elem]['label'] == 'REAL':\n",
        "        reals.append(elem)\n",
        "    else:\n",
        "        fakes.append(elem)\n",
        "\n",
        "train_list = reals + fakes[:len(reals)]\n",
        "#svm = train(os.path.join(path, 'preprocessed'), train_list, metadata)\n",
        "#joblib.dump(svm, os.path.join(path, \"new_svm_2_proper_dist.joblib\"))\n",
        "svm = joblib.load(os.path.join(path, \"new_svm_2_proper_dist.joblib\"))"
      ],
      "id": "RC05L63Q_J-2"
    },
    {
      "cell_type": "markdown",
      "metadata": {
        "id": "6YcnMpFBOCWE"
      },
      "source": [
        "- Model Training"
      ],
      "id": "6YcnMpFBOCWE"
    },
    {
      "cell_type": "code",
      "execution_count": null,
      "metadata": {
        "id": "_J9qro-6Oa_0"
      },
      "outputs": [],
      "source": [
        "# run for epochs\n",
        "import numpy as np\n",
        "import glob\n",
        "for _ in range(1):\n",
        "    train_data = X_val[:int(len(X_val)/2)]\n",
        "    net_train(net, model, train_data, svm)"
      ],
      "id": "_J9qro-6Oa_0"
    },
    {
      "cell_type": "code",
      "execution_count": null,
      "metadata": {
        "colab": {
          "base_uri": "https://localhost:8080/",
          "height": 545
        },
        "id": "_eeSyjOggaQk",
        "outputId": "9078a107-2385-485b-c31c-e37935afb3c5"
      },
      "outputs": [
        {
          "output_type": "display_data",
          "data": {
            "text/plain": [
              "<Figure size 432x288 with 1 Axes>"
            ],
            "image/png": "[encoded data removed]"
          },
          "metadata": {
            "needs_background": "light"
          }
        },
        {
          "output_type": "display_data",
          "data": {
            "text/plain": [
              "<Figure size 432x288 with 1 Axes>"
            ],
            "image/png": "[encoded data removed]"
          },
          "metadata": {
            "needs_background": "light"
          }
        }
      ],
      "source": [
        "import matplotlib.pyplot as plt\n",
        "plt.plot(loss_list)\n",
        "plt.title(\"Loss per Iteration\")\n",
        "plt.show()\n",
        "plt.plot(running)\n",
        "plt.title(\"Running Loss per Iteration\")\n",
        "plt.show()"
      ],
      "id": "_eeSyjOggaQk"
    },
    {
      "cell_type": "code",
      "execution_count": null,
      "metadata": {
        "id": "7QyqR-wJK0-y"
      },
      "outputs": [],
      "source": [
        "#torch.save(net.state_dict(), os.path.join(path, 'model11.pth'))\n",
        "#state = torch.load(os.path.join(path, 'model5.pth'))\n",
        "#net.load_state_dict(state)"
      ],
      "id": "7QyqR-wJK0-y"
    },
    {
      "cell_type": "markdown",
      "metadata": {
        "id": "gIVdjhaBOT-e"
      },
      "source": [
        "# Test all models"
      ],
      "id": "gIVdjhaBOT-e"
    },
    {
      "cell_type": "code",
      "execution_count": null,
      "metadata": {
        "colab": {
          "base_uri": "https://localhost:8080/"
        },
        "id": "aiZIBMSPKyKM",
        "outputId": "6d3c3d86-8432-4753-9659-02d017fcea4f"
      },
      "outputs": [
        {
          "output_type": "stream",
          "name": "stdout",
          "text": [
            "SVM RESULTS\n",
            "=================\n",
            "Accuracy score: 69.6969696969697% on 132 samples, False Positives: 22, False Negatives: 18\n",
            "\n",
            "PRETRAINED RESULTS\n",
            "=================\n",
            "Accuracy score: 80.95238095238095% on 126 samples, False Positives: 12, False Negatives: 12\n",
            "\n",
            "COMBINED RESULTS\n",
            "=================\n",
            "Accuracy score: 78.57142857142857% on 126 samples, False Positives: 0, False Negatives: 27\n",
            "\n",
            "GROUND TRUTH\n",
            "=================\n",
            "True positives: 104, True negatives 28\n"
          ]
        }
      ],
      "source": [
        "ground_truth_pos = 0\n",
        "ground_truth_negs = 0\n",
        "comb_true_negs = 0\n",
        "comb_false_pos = 0\n",
        "comb_false_negs = 0\n",
        "comb_samples = 0\n",
        "comb_corr = 0\n",
        "svm_true_negs = 0\n",
        "svm_false_pos = 0\n",
        "svm_false_negs = 0\n",
        "svm_samples = 0\n",
        "svm_corr = 0\n",
        "pretrained_corr = 0\n",
        "pretrained_true_negs = 0\n",
        "pretrained_false_pos = 0\n",
        "pretrained_false_negs = 0\n",
        "pretrained_samples = 0\n",
        "pretrained_corr = 0\n",
        "\n",
        "test_data = X_val[int(len(X_val)/2):]\n",
        "svm_classifications = dict()\n",
        "\n",
        "for cur_data in test_data:\n",
        "    with torch.no_grad():\n",
        "        input = [-1, -1]\n",
        "        vid_name = os.path.splitext(cur_data)[0] \n",
        "\n",
        "        # grab label of the data to find the directory where it is stored\n",
        "        label =  metadata[cur_data]['label']\n",
        "        if label == 'REAL':\n",
        "            dir = 'real'\n",
        "            ground_truth_negs += 1\n",
        "        else:\n",
        "            dir = 'fake'\n",
        "            ground_truth_pos += 1\n",
        "        # classify with svm\n",
        "        input[0] = classify(os.path.join(path, 'preprocessed', vid_name), svm)\n",
        "        \n",
        "        # classify with svm and test it\n",
        "        svm_samples += 1\n",
        "        if dir == 'real':\n",
        "            if input[0] > 0:\n",
        "                svm_corr += 1\n",
        "            else:\n",
        "                svm_false_pos += 1\n",
        "        else:\n",
        "            if input[0] < 0:\n",
        "                svm_corr += 1\n",
        "            else:\n",
        "                svm_false_negs += 1\n",
        "\n",
        "        # get output from pretrained model\n",
        "        frames = glob.glob(os.path.join(path, 'dataset', dir, vid_name+'_*'))\n",
        "        input_frames = list()\n",
        "        for frame in frames: \n",
        "            input_frames.append(img_to_array(load_img(frame)).flatten() / 255.0)\n",
        "        if not frames:\n",
        "            continue\n",
        "            \n",
        "        pretrained_out = model(np.array(input_frames).reshape(-1, 128, 128, 3))\n",
        "        input[1] = np.argmax(pretrained_out, 1).mean()\n",
        "        \n",
        "\n",
        "        # send to combined\n",
        "        output = net(torch.tensor(input, dtype=torch.float32).to(device))\n",
        "\n",
        "        # test pretrained\n",
        "        comb_samples += 1\n",
        "        pretrained_samples += 1\n",
        "        if dir == 'real':\n",
        "            if input[1].round() == 1:\n",
        "                pretrained_corr += 1\n",
        "            else:\n",
        "                pretrained_false_negs += 1\n",
        "        else:\n",
        "            if input[1].round() == 0:\n",
        "                pretrained_corr += 1\n",
        "            else:\n",
        "                pretrained_false_pos += 1\n",
        "        \n",
        "        # test combined\n",
        "        if dir == 'real':\n",
        "            if torch.argmax(output) == 1:\n",
        "                comb_corr += 1\n",
        "            else:\n",
        "                comb_false_negs += 1\n",
        "        else:\n",
        "            if torch.argmax(output) == 0:\n",
        "                comb_corr += 1\n",
        "            else:\n",
        "                comb_false_pos += 1\n",
        "\n",
        "print(\"SVM RESULTS\\n=================\")\n",
        "print(f\"Accuracy score: {svm_corr/svm_samples * 100}% on {svm_samples} samples, False Positives: {svm_false_pos}, False Negatives: {svm_false_negs}\\n\")\n",
        "\n",
        "print(\"PRETRAINED RESULTS\\n=================\")\n",
        "print(f\"Accuracy score: {pretrained_corr/pretrained_samples * 100}% on {pretrained_samples} samples, False Positives: {pretrained_false_pos}, False Negatives: {pretrained_false_negs}\\n\")\n",
        "\n",
        "print(\"COMBINED RESULTS\\n=================\")\n",
        "print(f\"Accuracy score: {comb_corr/comb_samples * 100}% on {comb_samples} samples, False Positives: {comb_false_pos}, False Negatives: {comb_false_negs}\\n\")\n",
        "\n",
        "print(\"GROUND TRUTH\\n=================\")\n",
        "print(f\"True positives: {ground_truth_pos}, True negatives {ground_truth_negs}\")"
      ],
      "id": "aiZIBMSPKyKM"
    }
  ],
  "metadata": {
    "accelerator": "GPU",
    "colab": {
      "background_execution": "on",
      "collapsed_sections": [
        "132db684",
        "e5bbd2d1",
        "oyYaZGC-Fwf5"
      ],
      "name": "svm_classifier.ipynb",
      "provenance": []
    },
    "jupytext": {
      "cell_metadata_filter": "-all",
      "formats": "py,ipynb",
      "main_language": "python"
    },
    "kernelspec": {
      "display_name": "Python 3",
      "name": "python3"
    },
    "language_info": {
      "name": "python"
    }
  },
  "nbformat": 4,
  "nbformat_minor": 5
}